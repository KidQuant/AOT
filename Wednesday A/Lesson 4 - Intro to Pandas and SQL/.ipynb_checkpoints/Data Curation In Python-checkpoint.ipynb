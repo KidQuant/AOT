{
 "cells": [
  {
   "cell_type": "code",
   "execution_count": null,
   "id": "eaa923d1",
   "metadata": {},
   "outputs": [],
   "source": [
    "import pandas as pd\n",
    "import numpy "
   ]
  },
  {
   "cell_type": "markdown",
   "id": "1000f23e",
   "metadata": {},
   "source": [
    "## The Pandas Series Object"
   ]
  },
  {
   "cell_type": "code",
   "execution_count": null,
   "id": "68fbd276",
   "metadata": {},
   "outputs": [],
   "source": [
    "data = pd.Series([0.25, 0.5, 0.75, 1.0])"
   ]
  },
  {
   "cell_type": "markdown",
   "id": "e64fe7e2",
   "metadata": {},
   "source": [
    "### Series as Generalized Numpy array"
   ]
  },
  {
   "cell_type": "code",
   "execution_count": null,
   "id": "b5b10956",
   "metadata": {},
   "outputs": [],
   "source": [
    "data = pd.Series([0.25, 0.5, 0.75, 1.0], index = ['a', 'b', 'c', 'd'])"
   ]
  },
  {
   "cell_type": "markdown",
   "id": "dc4ddb81",
   "metadata": {},
   "source": [
    "### Series as specialized dictionary"
   ]
  },
  {
   "cell_type": "code",
   "execution_count": null,
   "id": "878e902c",
   "metadata": {},
   "outputs": [],
   "source": [
    "population_dict = {'California': 38332521, \n",
    "                   'Texas': 26448193, \n",
    "                   'New York': 19651127, \n",
    "                   'Florida': 19552860,\n",
    "                   'Illinois': 12882135}"
   ]
  },
  {
   "cell_type": "markdown",
   "id": "0d4121bc",
   "metadata": {},
   "source": [
    "### More Series examples \n"
   ]
  },
  {
   "cell_type": "markdown",
   "id": "7435867b",
   "metadata": {},
   "source": [
    "## The Pandas DataFrame Object"
   ]
  },
  {
   "cell_type": "code",
   "execution_count": null,
   "id": "783712fc",
   "metadata": {},
   "outputs": [],
   "source": [
    "area_dict = {'California': 423967, 'Texas': 695662, 'New York': 141297,\n",
    " 'Florida': 170312, 'Illinois': 149995}"
   ]
  },
  {
   "cell_type": "markdown",
   "id": "2013b207",
   "metadata": {},
   "source": [
    "## Data Selection in Series"
   ]
  },
  {
   "cell_type": "code",
   "execution_count": null,
   "id": "963abc4f",
   "metadata": {},
   "outputs": [],
   "source": [
    "data = pd.Series([0.25, 0.5, 0.75, 1.0], index = ['a', 'b', 'c', 'd'])"
   ]
  },
  {
   "cell_type": "markdown",
   "id": "8eccb966",
   "metadata": {},
   "source": [
    "## Data Selection in DataFrame"
   ]
  },
  {
   "cell_type": "code",
   "execution_count": null,
   "id": "cc636084",
   "metadata": {},
   "outputs": [],
   "source": [
    "area = pd.Series({'California': 423967, \n",
    "                  'Texas': 695662,\n",
    "                  'New York': 141297, \n",
    "                  'Florida': 170312,\n",
    "                  'Illinois': 149995})\n",
    "\n",
    "pop = pd.Series({'California': 38332521, \n",
    "                 'Texas': 26448193,\n",
    "                 'New York': 19651127, \n",
    "                 'Florida': 19552860,\n",
    "                 'Illinois': 12882135})"
   ]
  },
  {
   "cell_type": "markdown",
   "id": "1ea74116",
   "metadata": {},
   "source": [
    "## Missing Data in Pandas"
   ]
  },
  {
   "cell_type": "code",
   "execution_count": null,
   "id": "5764ef73",
   "metadata": {},
   "outputs": [],
   "source": [
    "data1 = pd.Series([1, np.nan, 'hello', None])\n",
    "data1 #"
   ]
  },
  {
   "cell_type": "markdown",
   "id": "0f364a49",
   "metadata": {},
   "source": [
    "### Dropping Null Values"
   ]
  },
  {
   "cell_type": "code",
   "execution_count": null,
   "id": "9a737510",
   "metadata": {},
   "outputs": [],
   "source": [
    "df = pd.DataFrame([[1, np.nan, 2],\n",
    "                   [2, 3, 5],\n",
    "                   [np.nan, 4, 6]])"
   ]
  },
  {
   "cell_type": "markdown",
   "id": "65d95469",
   "metadata": {},
   "source": [
    "### Filling null values"
   ]
  },
  {
   "cell_type": "code",
   "execution_count": null,
   "id": "32d68cc3",
   "metadata": {},
   "outputs": [],
   "source": [
    "data3 = pd.Series([1, np.nan, 2, None, 3], index=list('abcde'))"
   ]
  },
  {
   "cell_type": "markdown",
   "id": "358277da",
   "metadata": {},
   "source": [
    "## Combining Datasets: Concatenation"
   ]
  },
  {
   "cell_type": "code",
   "execution_count": null,
   "id": "4c5b4577",
   "metadata": {},
   "outputs": [],
   "source": [
    "def make_df(cols, ind):\n",
    "    \"\"\"Quickly make a DataFrame\"\"\"\n",
    "    data = {c: [str(c) + str(i) for i in ind]\n",
    "    for c in cols}\n",
    "    return pd.DataFrame(data, ind)\n",
    "\n",
    "# example DataFrame\n",
    "make_df('ABC', range(3))"
   ]
  },
  {
   "cell_type": "code",
   "execution_count": null,
   "id": "6558b003",
   "metadata": {},
   "outputs": [],
   "source": [
    "df1 = make_df('AB', range(1,3))\n",
    "df2 = make_df('AB', range(3,5))\n",
    "print(df1); print(df2);"
   ]
  },
  {
   "cell_type": "code",
   "execution_count": null,
   "id": "c48a3c3d",
   "metadata": {},
   "outputs": [],
   "source": [
    "df3 = make_df('AB', range(0,2))\n",
    "df4 = make_df('CD', range(0,2))\n",
    "print(df3); print(df4);"
   ]
  },
  {
   "cell_type": "markdown",
   "id": "e704e2e3",
   "metadata": {},
   "source": [
    "### Contenation with joins"
   ]
  },
  {
   "cell_type": "code",
   "execution_count": null,
   "id": "3e40c362",
   "metadata": {},
   "outputs": [],
   "source": [
    "df5 = make_df('ABC', [1, 2])\n",
    "df6 = make_df('BCD', [3, 4])\n",
    "print(df5); print(df6); print(pd.concat([df5, df6]))"
   ]
  },
  {
   "cell_type": "code",
   "execution_count": null,
   "id": "ba2c2a23",
   "metadata": {},
   "outputs": [],
   "source": [
    "print(df5); print(df6);"
   ]
  },
  {
   "cell_type": "code",
   "execution_count": null,
   "id": "1375a99e",
   "metadata": {},
   "outputs": [],
   "source": []
  }
 ],
 "metadata": {
  "kernelspec": {
   "display_name": "Python 3 (ipykernel)",
   "language": "python",
   "name": "python3"
  },
  "language_info": {
   "codemirror_mode": {
    "name": "ipython",
    "version": 3
   },
   "file_extension": ".py",
   "mimetype": "text/x-python",
   "name": "python",
   "nbconvert_exporter": "python",
   "pygments_lexer": "ipython3",
   "version": "3.11.5"
  }
 },
 "nbformat": 4,
 "nbformat_minor": 5
}
