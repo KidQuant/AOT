{
 "cells": [
  {
   "cell_type": "code",
   "execution_count": 2,
   "id": "2402991b",
   "metadata": {},
   "outputs": [],
   "source": [
    "import pandas as pd\n"
   ]
  },
  {
   "cell_type": "code",
   "execution_count": 1,
   "id": "baf24a8e-8026-4342-b317-be99f165326e",
   "metadata": {},
   "outputs": [],
   "source": [
    "housing = \"https://raw.githubusercontent.com/ageron/handson-ml/master/\"\n",
    "\n"
   ]
  },
  {
   "cell_type": "markdown",
   "id": "02de4ab5-4955-445b-a383-239130544b5d",
   "metadata": {},
   "source": [
    "## Question 1: Creating a 10 strings"
   ]
  },
  {
   "cell_type": "code",
   "execution_count": 5,
   "id": "6cd024d6-eba9-4df7-a336-142a7a2b2b9b",
   "metadata": {},
   "outputs": [],
   "source": [
    "var_one = 34\n",
    "var_two = float(34)\n",
    "var_three = 34/23"
   ]
  },
  {
   "cell_type": "code",
   "execution_count": 8,
   "id": "d614f7e1-0a66-44d0-804d-9b94e83a220a",
   "metadata": {},
   "outputs": [
    {
     "ename": "ModuleNotFoundError",
     "evalue": "No module named 'pandas'",
     "output_type": "error",
     "traceback": [
      "\u001b[1;31m---------------------------------------------------------------------------\u001b[0m",
      "\u001b[1;31mModuleNotFoundError\u001b[0m                       Traceback (most recent call last)",
      "Cell \u001b[1;32mIn[8], line 1\u001b[0m\n\u001b[1;32m----> 1\u001b[0m \u001b[38;5;28;01mimport\u001b[39;00m \u001b[38;5;21;01mpandas\u001b[39;00m\n",
      "\u001b[1;31mModuleNotFoundError\u001b[0m: No module named 'pandas'"
     ]
    }
   ],
   "source": [
    "dd"
   ]
  }
 ],
 "metadata": {
  "kernelspec": {
   "display_name": "Python 3 (ipykernel)",
   "language": "python",
   "name": "python3"
  },
  "language_info": {
   "codemirror_mode": {
    "name": "ipython",
    "version": 3
   },
   "file_extension": ".py",
   "mimetype": "text/x-python",
   "name": "python",
   "nbconvert_exporter": "python",
   "pygments_lexer": "ipython3",
   "version": "3.11.5"
  }
 },
 "nbformat": 4,
 "nbformat_minor": 5
}
