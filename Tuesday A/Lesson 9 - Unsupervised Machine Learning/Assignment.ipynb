{
 "cells": [
  {
   "cell_type": "code",
   "execution_count": 2,
   "metadata": {},
   "outputs": [
    {
     "data": {
      "text/html": [
       "<div>\n",
       "<style scoped>\n",
       "    .dataframe tbody tr th:only-of-type {\n",
       "        vertical-align: middle;\n",
       "    }\n",
       "\n",
       "    .dataframe tbody tr th {\n",
       "        vertical-align: top;\n",
       "    }\n",
       "\n",
       "    .dataframe thead th {\n",
       "        text-align: right;\n",
       "    }\n",
       "</style>\n",
       "<table border=\"1\" class=\"dataframe\">\n",
       "  <thead>\n",
       "    <tr style=\"text-align: right;\">\n",
       "      <th></th>\n",
       "      <th>id</th>\n",
       "      <th>gender</th>\n",
       "      <th>age</th>\n",
       "      <th>annual_income</th>\n",
       "      <th>spending_score</th>\n",
       "      <th>perf_shop_meth</th>\n",
       "      <th>member_level</th>\n",
       "    </tr>\n",
       "  </thead>\n",
       "  <tbody>\n",
       "    <tr>\n",
       "      <th>0</th>\n",
       "      <td>1</td>\n",
       "      <td>Female</td>\n",
       "      <td>48</td>\n",
       "      <td>29189.97</td>\n",
       "      <td>90</td>\n",
       "      <td>InStore</td>\n",
       "      <td>none</td>\n",
       "    </tr>\n",
       "    <tr>\n",
       "      <th>1</th>\n",
       "      <td>2</td>\n",
       "      <td>Female</td>\n",
       "      <td>40</td>\n",
       "      <td>10242.24</td>\n",
       "      <td>39</td>\n",
       "      <td>InStore</td>\n",
       "      <td>gold</td>\n",
       "    </tr>\n",
       "    <tr>\n",
       "      <th>2</th>\n",
       "      <td>3</td>\n",
       "      <td>Male</td>\n",
       "      <td>71</td>\n",
       "      <td>20388.37</td>\n",
       "      <td>48</td>\n",
       "      <td>InStore</td>\n",
       "      <td>silver</td>\n",
       "    </tr>\n",
       "    <tr>\n",
       "      <th>3</th>\n",
       "      <td>4</td>\n",
       "      <td>Female</td>\n",
       "      <td>72</td>\n",
       "      <td>57062.15</td>\n",
       "      <td>43</td>\n",
       "      <td>InStore</td>\n",
       "      <td>none</td>\n",
       "    </tr>\n",
       "    <tr>\n",
       "      <th>4</th>\n",
       "      <td>5</td>\n",
       "      <td>Agender</td>\n",
       "      <td>81</td>\n",
       "      <td>64736.13</td>\n",
       "      <td>44</td>\n",
       "      <td>InStore</td>\n",
       "      <td>gold</td>\n",
       "    </tr>\n",
       "  </tbody>\n",
       "</table>\n",
       "</div>"
      ],
      "text/plain": [
       "   id   gender  age  annual_income  spending_score perf_shop_meth member_level\n",
       "0   1   Female   48       29189.97              90        InStore         none\n",
       "1   2   Female   40       10242.24              39        InStore         gold\n",
       "2   3     Male   71       20388.37              48        InStore       silver\n",
       "3   4   Female   72       57062.15              43        InStore         none\n",
       "4   5  Agender   81       64736.13              44        InStore         gold"
      ]
     },
     "execution_count": 2,
     "metadata": {},
     "output_type": "execute_result"
    }
   ],
   "source": [
    "import pandas as pd\n",
    "import numpy as np\n",
    "import matplotlib.pyplot as plt\n",
    "\n",
    "%matplotlib inline\n",
    "\n",
    "df = pd.read_csv(\"unsupervised learning_assignment_dataset.csv\")\n",
    "df.head()"
   ]
  },
  {
   "cell_type": "markdown",
   "metadata": {},
   "source": [
    "## Data Exploration and Data Visualization\n",
    "\n",
    "* Find the standard deviation for the age, annual income, and spending score."
   ]
  },
  {
   "cell_type": "code",
   "execution_count": 3,
   "metadata": {},
   "outputs": [
    {
     "data": {
      "text/plain": [
       "19.189775268218153"
      ]
     },
     "execution_count": 3,
     "metadata": {},
     "output_type": "execute_result"
    }
   ],
   "source": [
    "# age\n",
    "df['age'].std()"
   ]
  },
  {
   "cell_type": "code",
   "execution_count": 4,
   "metadata": {},
   "outputs": [
    {
     "data": {
      "text/plain": [
       "24845.52194533209"
      ]
     },
     "execution_count": 4,
     "metadata": {},
     "output_type": "execute_result"
    }
   ],
   "source": [
    "# annual income\n",
    "df['annual_income'].std()"
   ]
  },
  {
   "cell_type": "code",
   "execution_count": 5,
   "metadata": {},
   "outputs": [
    {
     "data": {
      "text/plain": [
       "17.32125632002531"
      ]
     },
     "execution_count": 5,
     "metadata": {},
     "output_type": "execute_result"
    }
   ],
   "source": [
    "df['spending_score'].std()"
   ]
  },
  {
   "cell_type": "markdown",
   "metadata": {},
   "source": [
    "* Complete data visualization for all features in the dataset except for the id column"
   ]
  },
  {
   "cell_type": "code",
   "execution_count": 11,
   "metadata": {},
   "outputs": [
    {
     "data": {
      "image/png": "[encoded data removed]",
      "text/plain": [
       "<Figure size 640x480 with 1 Axes>"
      ]
     },
     "metadata": {},
     "output_type": "display_data"
    }
   ],
   "source": [
    "import seaborn as sns\n",
    "\n",
    "# annnual_income\n",
    "\n",
    "sns.histplot(df['annual_income'].dropna(), kde=False, bins=30)\n",
    "plt.show()"
   ]
  },
  {
   "cell_type": "code",
   "execution_count": 30,
   "metadata": {},
   "outputs": [
    {
     "data": {
      "text/plain": [
       "<seaborn.axisgrid.FacetGrid at 0x251a45e5ee0>"
      ]
     },
     "execution_count": 30,
     "metadata": {},
     "output_type": "execute_result"
    },
    {
     "data": {
      "image/png": "[encoded data removed]",
      "text/plain": [
       "<Figure size 500x500 with 1 Axes>"
      ]
     },
     "metadata": {},
     "output_type": "display_data"
    }
   ],
   "source": [
    "#age\n",
    "\n",
    "sns.lmplot(x='annual_income', y='age',\n",
    "           data= df,\n",
    "           aspect=1,\n",
    "           fit_reg=False)"
   ]
  },
  {
   "cell_type": "code",
   "execution_count": 35,
   "metadata": {},
   "outputs": [
    {
     "data": {
      "text/plain": [
       "Text(0.5, 0, 'Annual Income')"
      ]
     },
     "execution_count": 35,
     "metadata": {},
     "output_type": "execute_result"
    },
    {
     "data": {
      "image/png": "[encoded data removed]",
      "text/plain": [
       "<Figure size 1200x800 with 1 Axes>"
      ]
     },
     "metadata": {},
     "output_type": "display_data"
    }
   ],
   "source": [
    "plt.figure(figsize=(12,8))\n",
    "\n",
    "df[df['perf_shop_meth'] == 'InStore']['annual_income'].hist(alpha=0.5, color = 'blue', bins=20, label='In Store')\n",
    "df[df['perf_shop_meth'] == 'BOPS']['annual_income'].hist(alpha=0.5, color='red', bins=20, label='BOPS')\n",
    "df[df['perf_shop_meth'] == 'Online']['annual_income'].hist(alpha=0.5, color='green', bins=20, label='Online')\n",
    "\n",
    "plt.legend()\n",
    "\n",
    "plt.xlabel('Annual Income')"
   ]
  },
  {
   "cell_type": "markdown",
   "metadata": {},
   "source": [
    "## Data Curation\n",
    "\n",
    "* Dummy Code all Categorical features\n",
    "\n"
   ]
  },
  {
   "cell_type": "code",
   "execution_count": 36,
   "metadata": {},
   "outputs": [
    {
     "data": {
      "text/plain": [
       "Index(['gender', 'perf_shop_meth', 'member_level'], dtype='object')"
      ]
     },
     "execution_count": 36,
     "metadata": {},
     "output_type": "execute_result"
    }
   ],
   "source": [
    "# finding categorical variables\n",
    "\n",
    "df.select_dtypes(exclude='number').columns"
   ]
  },
  {
   "cell_type": "code",
   "execution_count": 42,
   "metadata": {},
   "outputs": [
    {
     "data": {
      "text/html": [
       "<div>\n",
       "<style scoped>\n",
       "    .dataframe tbody tr th:only-of-type {\n",
       "        vertical-align: middle;\n",
       "    }\n",
       "\n",
       "    .dataframe tbody tr th {\n",
       "        vertical-align: top;\n",
       "    }\n",
       "\n",
       "    .dataframe thead th {\n",
       "        text-align: right;\n",
       "    }\n",
       "</style>\n",
       "<table border=\"1\" class=\"dataframe\">\n",
       "  <thead>\n",
       "    <tr style=\"text-align: right;\">\n",
       "      <th></th>\n",
       "      <th>id</th>\n",
       "      <th>age</th>\n",
       "      <th>annual_income</th>\n",
       "      <th>spending_score</th>\n",
       "      <th>perf_shop_meth</th>\n",
       "      <th>member_level</th>\n",
       "      <th>gender_Bigender</th>\n",
       "      <th>gender_Female</th>\n",
       "      <th>gender_Genderfluid</th>\n",
       "      <th>gender_Genderqueer</th>\n",
       "      <th>gender_Male</th>\n",
       "      <th>gender_Non-binary</th>\n",
       "      <th>gender_Polygender</th>\n",
       "    </tr>\n",
       "  </thead>\n",
       "  <tbody>\n",
       "    <tr>\n",
       "      <th>0</th>\n",
       "      <td>1</td>\n",
       "      <td>48</td>\n",
       "      <td>29189.97</td>\n",
       "      <td>90</td>\n",
       "      <td>InStore</td>\n",
       "      <td>none</td>\n",
       "      <td>0</td>\n",
       "      <td>1</td>\n",
       "      <td>0</td>\n",
       "      <td>0</td>\n",
       "      <td>0</td>\n",
       "      <td>0</td>\n",
       "      <td>0</td>\n",
       "    </tr>\n",
       "    <tr>\n",
       "      <th>1</th>\n",
       "      <td>2</td>\n",
       "      <td>40</td>\n",
       "      <td>10242.24</td>\n",
       "      <td>39</td>\n",
       "      <td>InStore</td>\n",
       "      <td>gold</td>\n",
       "      <td>0</td>\n",
       "      <td>1</td>\n",
       "      <td>0</td>\n",
       "      <td>0</td>\n",
       "      <td>0</td>\n",
       "      <td>0</td>\n",
       "      <td>0</td>\n",
       "    </tr>\n",
       "    <tr>\n",
       "      <th>2</th>\n",
       "      <td>3</td>\n",
       "      <td>71</td>\n",
       "      <td>20388.37</td>\n",
       "      <td>48</td>\n",
       "      <td>InStore</td>\n",
       "      <td>silver</td>\n",
       "      <td>0</td>\n",
       "      <td>0</td>\n",
       "      <td>0</td>\n",
       "      <td>0</td>\n",
       "      <td>1</td>\n",
       "      <td>0</td>\n",
       "      <td>0</td>\n",
       "    </tr>\n",
       "    <tr>\n",
       "      <th>3</th>\n",
       "      <td>4</td>\n",
       "      <td>72</td>\n",
       "      <td>57062.15</td>\n",
       "      <td>43</td>\n",
       "      <td>InStore</td>\n",
       "      <td>none</td>\n",
       "      <td>0</td>\n",
       "      <td>1</td>\n",
       "      <td>0</td>\n",
       "      <td>0</td>\n",
       "      <td>0</td>\n",
       "      <td>0</td>\n",
       "      <td>0</td>\n",
       "    </tr>\n",
       "    <tr>\n",
       "      <th>4</th>\n",
       "      <td>5</td>\n",
       "      <td>81</td>\n",
       "      <td>64736.13</td>\n",
       "      <td>44</td>\n",
       "      <td>InStore</td>\n",
       "      <td>gold</td>\n",
       "      <td>0</td>\n",
       "      <td>0</td>\n",
       "      <td>0</td>\n",
       "      <td>0</td>\n",
       "      <td>0</td>\n",
       "      <td>0</td>\n",
       "      <td>0</td>\n",
       "    </tr>\n",
       "  </tbody>\n",
       "</table>\n",
       "</div>"
      ],
      "text/plain": [
       "   id  age  annual_income  spending_score perf_shop_meth member_level  \\\n",
       "0   1   48       29189.97              90        InStore         none   \n",
       "1   2   40       10242.24              39        InStore         gold   \n",
       "2   3   71       20388.37              48        InStore       silver   \n",
       "3   4   72       57062.15              43        InStore         none   \n",
       "4   5   81       64736.13              44        InStore         gold   \n",
       "\n",
       "   gender_Bigender  gender_Female  gender_Genderfluid  gender_Genderqueer  \\\n",
       "0                0              1                   0                   0   \n",
       "1                0              1                   0                   0   \n",
       "2                0              0                   0                   0   \n",
       "3                0              1                   0                   0   \n",
       "4                0              0                   0                   0   \n",
       "\n",
       "   gender_Male  gender_Non-binary  gender_Polygender  \n",
       "0            0                  0                  0  \n",
       "1            0                  0                  0  \n",
       "2            1                  0                  0  \n",
       "3            0                  0                  0  \n",
       "4            0                  0                  0  "
      ]
     },
     "execution_count": 42,
     "metadata": {},
     "output_type": "execute_result"
    }
   ],
   "source": [
    "#Curating the gender colums\n",
    "\n",
    "df2 = pd.get_dummies(df, columns = ['gender'], drop_first=True, dtype=int)\n",
    "df2.head()\n"
   ]
  },
  {
   "cell_type": "code",
   "execution_count": 47,
   "metadata": {},
   "outputs": [
    {
     "data": {
      "text/html": [
       "<div>\n",
       "<style scoped>\n",
       "    .dataframe tbody tr th:only-of-type {\n",
       "        vertical-align: middle;\n",
       "    }\n",
       "\n",
       "    .dataframe tbody tr th {\n",
       "        vertical-align: top;\n",
       "    }\n",
       "\n",
       "    .dataframe thead th {\n",
       "        text-align: right;\n",
       "    }\n",
       "</style>\n",
       "<table border=\"1\" class=\"dataframe\">\n",
       "  <thead>\n",
       "    <tr style=\"text-align: right;\">\n",
       "      <th></th>\n",
       "      <th>id</th>\n",
       "      <th>age</th>\n",
       "      <th>annual_income</th>\n",
       "      <th>spending_score</th>\n",
       "      <th>member_level</th>\n",
       "      <th>gender_Bigender</th>\n",
       "      <th>gender_Female</th>\n",
       "      <th>gender_Genderfluid</th>\n",
       "      <th>gender_Genderqueer</th>\n",
       "      <th>gender_Male</th>\n",
       "      <th>gender_Non-binary</th>\n",
       "      <th>gender_Polygender</th>\n",
       "      <th>perf_shop_meth_InStore</th>\n",
       "      <th>perf_shop_meth_Online</th>\n",
       "    </tr>\n",
       "  </thead>\n",
       "  <tbody>\n",
       "    <tr>\n",
       "      <th>0</th>\n",
       "      <td>1</td>\n",
       "      <td>48</td>\n",
       "      <td>29189.97</td>\n",
       "      <td>90</td>\n",
       "      <td>none</td>\n",
       "      <td>0</td>\n",
       "      <td>1</td>\n",
       "      <td>0</td>\n",
       "      <td>0</td>\n",
       "      <td>0</td>\n",
       "      <td>0</td>\n",
       "      <td>0</td>\n",
       "      <td>1</td>\n",
       "      <td>0</td>\n",
       "    </tr>\n",
       "    <tr>\n",
       "      <th>1</th>\n",
       "      <td>2</td>\n",
       "      <td>40</td>\n",
       "      <td>10242.24</td>\n",
       "      <td>39</td>\n",
       "      <td>gold</td>\n",
       "      <td>0</td>\n",
       "      <td>1</td>\n",
       "      <td>0</td>\n",
       "      <td>0</td>\n",
       "      <td>0</td>\n",
       "      <td>0</td>\n",
       "      <td>0</td>\n",
       "      <td>1</td>\n",
       "      <td>0</td>\n",
       "    </tr>\n",
       "    <tr>\n",
       "      <th>2</th>\n",
       "      <td>3</td>\n",
       "      <td>71</td>\n",
       "      <td>20388.37</td>\n",
       "      <td>48</td>\n",
       "      <td>silver</td>\n",
       "      <td>0</td>\n",
       "      <td>0</td>\n",
       "      <td>0</td>\n",
       "      <td>0</td>\n",
       "      <td>1</td>\n",
       "      <td>0</td>\n",
       "      <td>0</td>\n",
       "      <td>1</td>\n",
       "      <td>0</td>\n",
       "    </tr>\n",
       "    <tr>\n",
       "      <th>3</th>\n",
       "      <td>4</td>\n",
       "      <td>72</td>\n",
       "      <td>57062.15</td>\n",
       "      <td>43</td>\n",
       "      <td>none</td>\n",
       "      <td>0</td>\n",
       "      <td>1</td>\n",
       "      <td>0</td>\n",
       "      <td>0</td>\n",
       "      <td>0</td>\n",
       "      <td>0</td>\n",
       "      <td>0</td>\n",
       "      <td>1</td>\n",
       "      <td>0</td>\n",
       "    </tr>\n",
       "    <tr>\n",
       "      <th>4</th>\n",
       "      <td>5</td>\n",
       "      <td>81</td>\n",
       "      <td>64736.13</td>\n",
       "      <td>44</td>\n",
       "      <td>gold</td>\n",
       "      <td>0</td>\n",
       "      <td>0</td>\n",
       "      <td>0</td>\n",
       "      <td>0</td>\n",
       "      <td>0</td>\n",
       "      <td>0</td>\n",
       "      <td>0</td>\n",
       "      <td>1</td>\n",
       "      <td>0</td>\n",
       "    </tr>\n",
       "    <tr>\n",
       "      <th>...</th>\n",
       "      <td>...</td>\n",
       "      <td>...</td>\n",
       "      <td>...</td>\n",
       "      <td>...</td>\n",
       "      <td>...</td>\n",
       "      <td>...</td>\n",
       "      <td>...</td>\n",
       "      <td>...</td>\n",
       "      <td>...</td>\n",
       "      <td>...</td>\n",
       "      <td>...</td>\n",
       "      <td>...</td>\n",
       "      <td>...</td>\n",
       "      <td>...</td>\n",
       "    </tr>\n",
       "    <tr>\n",
       "      <th>29995</th>\n",
       "      <td>29996</td>\n",
       "      <td>64</td>\n",
       "      <td>44506.93</td>\n",
       "      <td>50</td>\n",
       "      <td>gold</td>\n",
       "      <td>0</td>\n",
       "      <td>0</td>\n",
       "      <td>0</td>\n",
       "      <td>0</td>\n",
       "      <td>1</td>\n",
       "      <td>0</td>\n",
       "      <td>0</td>\n",
       "      <td>1</td>\n",
       "      <td>0</td>\n",
       "    </tr>\n",
       "    <tr>\n",
       "      <th>29996</th>\n",
       "      <td>29997</td>\n",
       "      <td>44</td>\n",
       "      <td>77084.87</td>\n",
       "      <td>41</td>\n",
       "      <td>none</td>\n",
       "      <td>0</td>\n",
       "      <td>1</td>\n",
       "      <td>0</td>\n",
       "      <td>0</td>\n",
       "      <td>0</td>\n",
       "      <td>0</td>\n",
       "      <td>0</td>\n",
       "      <td>1</td>\n",
       "      <td>0</td>\n",
       "    </tr>\n",
       "    <tr>\n",
       "      <th>29997</th>\n",
       "      <td>29998</td>\n",
       "      <td>42</td>\n",
       "      <td>75164.74</td>\n",
       "      <td>40</td>\n",
       "      <td>none</td>\n",
       "      <td>0</td>\n",
       "      <td>0</td>\n",
       "      <td>0</td>\n",
       "      <td>0</td>\n",
       "      <td>0</td>\n",
       "      <td>0</td>\n",
       "      <td>0</td>\n",
       "      <td>1</td>\n",
       "      <td>0</td>\n",
       "    </tr>\n",
       "    <tr>\n",
       "      <th>29998</th>\n",
       "      <td>29999</td>\n",
       "      <td>30</td>\n",
       "      <td>42800.99</td>\n",
       "      <td>71</td>\n",
       "      <td>none</td>\n",
       "      <td>0</td>\n",
       "      <td>1</td>\n",
       "      <td>0</td>\n",
       "      <td>0</td>\n",
       "      <td>0</td>\n",
       "      <td>0</td>\n",
       "      <td>0</td>\n",
       "      <td>1</td>\n",
       "      <td>0</td>\n",
       "    </tr>\n",
       "    <tr>\n",
       "      <th>29999</th>\n",
       "      <td>30000</td>\n",
       "      <td>77</td>\n",
       "      <td>65110.64</td>\n",
       "      <td>57</td>\n",
       "      <td>none</td>\n",
       "      <td>0</td>\n",
       "      <td>0</td>\n",
       "      <td>0</td>\n",
       "      <td>0</td>\n",
       "      <td>1</td>\n",
       "      <td>0</td>\n",
       "      <td>0</td>\n",
       "      <td>1</td>\n",
       "      <td>0</td>\n",
       "    </tr>\n",
       "  </tbody>\n",
       "</table>\n",
       "<p>30000 rows × 14 columns</p>\n",
       "</div>"
      ],
      "text/plain": [
       "          id  age  annual_income  spending_score member_level  \\\n",
       "0          1   48       29189.97              90         none   \n",
       "1          2   40       10242.24              39         gold   \n",
       "2          3   71       20388.37              48       silver   \n",
       "3          4   72       57062.15              43         none   \n",
       "4          5   81       64736.13              44         gold   \n",
       "...      ...  ...            ...             ...          ...   \n",
       "29995  29996   64       44506.93              50         gold   \n",
       "29996  29997   44       77084.87              41         none   \n",
       "29997  29998   42       75164.74              40         none   \n",
       "29998  29999   30       42800.99              71         none   \n",
       "29999  30000   77       65110.64              57         none   \n",
       "\n",
       "       gender_Bigender  gender_Female  gender_Genderfluid  gender_Genderqueer  \\\n",
       "0                    0              1                   0                   0   \n",
       "1                    0              1                   0                   0   \n",
       "2                    0              0                   0                   0   \n",
       "3                    0              1                   0                   0   \n",
       "4                    0              0                   0                   0   \n",
       "...                ...            ...                 ...                 ...   \n",
       "29995                0              0                   0                   0   \n",
       "29996                0              1                   0                   0   \n",
       "29997                0              0                   0                   0   \n",
       "29998                0              1                   0                   0   \n",
       "29999                0              0                   0                   0   \n",
       "\n",
       "       gender_Male  gender_Non-binary  gender_Polygender  \\\n",
       "0                0                  0                  0   \n",
       "1                0                  0                  0   \n",
       "2                1                  0                  0   \n",
       "3                0                  0                  0   \n",
       "4                0                  0                  0   \n",
       "...            ...                ...                ...   \n",
       "29995            1                  0                  0   \n",
       "29996            0                  0                  0   \n",
       "29997            0                  0                  0   \n",
       "29998            0                  0                  0   \n",
       "29999            1                  0                  0   \n",
       "\n",
       "       perf_shop_meth_InStore  perf_shop_meth_Online  \n",
       "0                           1                      0  \n",
       "1                           1                      0  \n",
       "2                           1                      0  \n",
       "3                           1                      0  \n",
       "4                           1                      0  \n",
       "...                       ...                    ...  \n",
       "29995                       1                      0  \n",
       "29996                       1                      0  \n",
       "29997                       1                      0  \n",
       "29998                       1                      0  \n",
       "29999                       1                      0  \n",
       "\n",
       "[30000 rows x 14 columns]"
      ]
     },
     "execution_count": 47,
     "metadata": {},
     "output_type": "execute_result"
    }
   ],
   "source": [
    "# Perferred Shopping Method\n",
    "\n",
    "pd.get_dummies(df2, columns=['perf_shop_meth'], drop_first=True, dtype=int)\n"
   ]
  },
  {
   "cell_type": "code",
   "execution_count": 46,
   "metadata": {},
   "outputs": [],
   "source": [
    "final_data = df3.rename(columns)\n"
   ]
  },
  {
   "cell_type": "code",
   "execution_count": null,
   "metadata": {},
   "outputs": [],
   "source": []
  }
 ],
 "metadata": {
  "kernelspec": {
   "display_name": "Python 3",
   "language": "python",
   "name": "python3"
  },
  "language_info": {
   "codemirror_mode": {
    "name": "ipython",
    "version": 3
   },
   "file_extension": ".py",
   "mimetype": "text/x-python",
   "name": "python",
   "nbconvert_exporter": "python",
   "pygments_lexer": "ipython3",
   "version": "3.12.2"
  }
 },
 "nbformat": 4,
 "nbformat_minor": 2
}
